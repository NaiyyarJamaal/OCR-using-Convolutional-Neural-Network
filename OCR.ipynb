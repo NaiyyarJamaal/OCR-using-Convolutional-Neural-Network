{
 "cells": [
  {
   "cell_type": "code",
   "execution_count": 1,
   "id": "e5a77847",
   "metadata": {},
   "outputs": [],
   "source": [
    "import tensorflow as tf\n",
    "import pandas as pd\n",
    "import numpy as np"
   ]
  },
  {
   "cell_type": "code",
   "execution_count": 2,
   "id": "48a925f3",
   "metadata": {},
   "outputs": [],
   "source": [
    "# train=pd.DataFrame(pd.read_csv('emnist-balanced-train.csv'))\n",
    "# test =pd.DataFrame(pd.read_csv('emnist-balanced-test.csv'))"
   ]
  },
  {
   "cell_type": "code",
   "execution_count": 3,
   "id": "d2e08300",
   "metadata": {},
   "outputs": [],
   "source": [
    "train=pd.read_csv('emnist-balanced-train.csv')\n",
    "test = pd.read_csv('emnist-balanced-test.csv')"
   ]
  },
  {
   "cell_type": "code",
   "execution_count": 4,
   "id": "6cfd4ed0",
   "metadata": {},
   "outputs": [],
   "source": [
    "train_X=train.iloc[0:,1:785]\n",
    "train_Y=train.iloc[0:,0:1]\n",
    "test_X=test.iloc[0:,1:785]\n",
    "test_Y=test.iloc[0:,0:1]"
   ]
  },
  {
   "cell_type": "code",
   "execution_count": 5,
   "id": "45369d2f",
   "metadata": {},
   "outputs": [
    {
     "data": {
      "text/html": [
       "<div>\n",
       "<style scoped>\n",
       "    .dataframe tbody tr th:only-of-type {\n",
       "        vertical-align: middle;\n",
       "    }\n",
       "\n",
       "    .dataframe tbody tr th {\n",
       "        vertical-align: top;\n",
       "    }\n",
       "\n",
       "    .dataframe thead th {\n",
       "        text-align: right;\n",
       "    }\n",
       "</style>\n",
       "<table border=\"1\" class=\"dataframe\">\n",
       "  <thead>\n",
       "    <tr style=\"text-align: right;\">\n",
       "      <th></th>\n",
       "      <th>41</th>\n",
       "    </tr>\n",
       "  </thead>\n",
       "  <tbody>\n",
       "    <tr>\n",
       "      <th>count</th>\n",
       "      <td>18799.000000</td>\n",
       "    </tr>\n",
       "    <tr>\n",
       "      <th>mean</th>\n",
       "      <td>22.999043</td>\n",
       "    </tr>\n",
       "    <tr>\n",
       "      <th>std</th>\n",
       "      <td>13.564746</td>\n",
       "    </tr>\n",
       "    <tr>\n",
       "      <th>min</th>\n",
       "      <td>0.000000</td>\n",
       "    </tr>\n",
       "    <tr>\n",
       "      <th>25%</th>\n",
       "      <td>11.000000</td>\n",
       "    </tr>\n",
       "    <tr>\n",
       "      <th>50%</th>\n",
       "      <td>23.000000</td>\n",
       "    </tr>\n",
       "    <tr>\n",
       "      <th>75%</th>\n",
       "      <td>35.000000</td>\n",
       "    </tr>\n",
       "    <tr>\n",
       "      <th>max</th>\n",
       "      <td>46.000000</td>\n",
       "    </tr>\n",
       "  </tbody>\n",
       "</table>\n",
       "</div>"
      ],
      "text/plain": [
       "                 41\n",
       "count  18799.000000\n",
       "mean      22.999043\n",
       "std       13.564746\n",
       "min        0.000000\n",
       "25%       11.000000\n",
       "50%       23.000000\n",
       "75%       35.000000\n",
       "max       46.000000"
      ]
     },
     "execution_count": 5,
     "metadata": {},
     "output_type": "execute_result"
    }
   ],
   "source": [
    "test_Y.describe()"
   ]
  },
  {
   "cell_type": "code",
   "execution_count": 6,
   "id": "2748a002",
   "metadata": {},
   "outputs": [
    {
     "data": {
      "text/plain": [
       "(112799, 1)"
      ]
     },
     "execution_count": 6,
     "metadata": {},
     "output_type": "execute_result"
    }
   ],
   "source": [
    "# train_X.shape\n",
    "train_Y.shape"
   ]
  },
  {
   "cell_type": "code",
   "execution_count": 7,
   "id": "b92219d2",
   "metadata": {},
   "outputs": [
    {
     "data": {
      "text/plain": [
       "0    0\n",
       "1    0\n",
       "2    0\n",
       "3    0\n",
       "4    0\n",
       "Name: 0.2, dtype: int64"
      ]
     },
     "execution_count": 7,
     "metadata": {},
     "output_type": "execute_result"
    }
   ],
   "source": [
    "# train_Y['45'].head()\n",
    "train_X['0.2'].head()"
   ]
  },
  {
   "cell_type": "code",
   "execution_count": 8,
   "id": "a43568e2",
   "metadata": {},
   "outputs": [
    {
     "data": {
      "text/plain": [
       "Index(['45'], dtype='object')"
      ]
     },
     "execution_count": 8,
     "metadata": {},
     "output_type": "execute_result"
    }
   ],
   "source": [
    "train_Y.keys()"
   ]
  },
  {
   "cell_type": "code",
   "execution_count": 9,
   "id": "5289c0ff",
   "metadata": {},
   "outputs": [],
   "source": [
    "train_X=np.reshape(np.array(train_X),(len(train_X),28,28,1))\n",
    "train_Y=np.reshape(np.array(train_Y['45']),(len(train_Y)))\n",
    "test_X=np.reshape(np.array(test_X),(len(test_X),28,28,1))\n",
    "test_Y=np.reshape(np.array(test_Y['41']),(len(test_Y)))"
   ]
  },
  {
   "cell_type": "code",
   "execution_count": 10,
   "id": "aa10d091",
   "metadata": {},
   "outputs": [
    {
     "data": {
      "text/plain": [
       "36"
      ]
     },
     "execution_count": 10,
     "metadata": {},
     "output_type": "execute_result"
    }
   ],
   "source": [
    "train_Y[0]"
   ]
  },
  {
   "cell_type": "code",
   "execution_count": 11,
   "id": "5d1de0ea",
   "metadata": {},
   "outputs": [],
   "source": [
    "from sklearn.model_selection import train_test_split\n",
    "train_X,val_X,train_Y,val_Y=train_test_split(train_X,train_Y,test_size=0.2,random_state=7,stratify=train_Y)"
   ]
  },
  {
   "cell_type": "code",
   "execution_count": 12,
   "id": "4c9d3c3e",
   "metadata": {},
   "outputs": [
    {
     "data": {
      "text/plain": [
       "47"
      ]
     },
     "execution_count": 12,
     "metadata": {},
     "output_type": "execute_result"
    }
   ],
   "source": [
    "len(np.unique(train_Y))"
   ]
  },
  {
   "cell_type": "code",
   "execution_count": 13,
   "id": "bc4f82e3",
   "metadata": {},
   "outputs": [
    {
     "data": {
      "text/plain": [
       "47"
      ]
     },
     "execution_count": 13,
     "metadata": {},
     "output_type": "execute_result"
    }
   ],
   "source": [
    "len(np.unique(val_Y))"
   ]
  },
  {
   "cell_type": "code",
   "execution_count": 14,
   "id": "4c191e02",
   "metadata": {},
   "outputs": [
    {
     "name": "stdout",
     "output_type": "stream",
     "text": [
      "[ 0  1  2  3  4  5  6  7  8  9 10 11 12 13 14 15 16 17 18 19 20 21 22 23\n",
      " 24 25 26 27 28 29 30 31 32 33 34 35 36 37 38 39 40 41 42 43 44 45 46] [ 0  1  2  3  4  5  6  7  8  9 10 11 12 13 14 15 16 17 18 19 20 21 22 23\n",
      " 24 25 26 27 28 29 30 31 32 33 34 35 36 37 38 39 40 41 42 43 44 45 46]\n"
     ]
    }
   ],
   "source": [
    "print(np.unique(val_Y),np.unique(train_Y))"
   ]
  },
  {
   "cell_type": "code",
   "execution_count": 15,
   "id": "20060737",
   "metadata": {},
   "outputs": [],
   "source": [
    "# train_X,train_Y=train['image'],train['label']\n",
    "# test_X,test_Y=test['image'],test['label']\n",
    "# train_X=pd.DataFrame(train_X)\n",
    "# train_Y=pd.DataFrame(train_Y)\n",
    "# test_X = pd.DataFrame(test_X)\n",
    "# test_Y=pd.DataFrame(test_Y)\n"
   ]
  },
  {
   "cell_type": "code",
   "execution_count": 16,
   "id": "55cb9042",
   "metadata": {},
   "outputs": [
    {
     "data": {
      "text/plain": [
       "5"
      ]
     },
     "execution_count": 16,
     "metadata": {},
     "output_type": "execute_result"
    }
   ],
   "source": [
    "train_Y[0]"
   ]
  },
  {
   "cell_type": "code",
   "execution_count": 17,
   "id": "6da4194b",
   "metadata": {},
   "outputs": [],
   "source": [
    "# imgData=np.array(train['image'])"
   ]
  },
  {
   "cell_type": "code",
   "execution_count": 18,
   "id": "34cf6926",
   "metadata": {},
   "outputs": [],
   "source": [
    "# train=tf.cast(train, 'float32')"
   ]
  },
  {
   "cell_type": "code",
   "execution_count": 19,
   "id": "58ec5547",
   "metadata": {},
   "outputs": [],
   "source": [
    "# # import PIL\n",
    "# # import scikit_image as si\n",
    "# # import cv2\n",
    "# from skimage import data, io, filters\n",
    "# # PIL.Image.fromarray(imgData[0])\n",
    "# # img=cv2.imread(imgData[0],0)\n",
    "# # cv2.imshow(img)\n",
    "# for i in range(0,12):\n",
    "#     img=filters.sobel(imgData[i])\n",
    "#     x=train['label'][i]\n",
    "#     if x>9 and x<36:\n",
    "#         print(chr(x-9+64))\n",
    "#     elif x>=36:\n",
    "#         print(chr(x-36+97))\n",
    "#     else:\n",
    "#         print(x)\n",
    "#     io.imshow(img)\n",
    "#     io.show()"
   ]
  },
  {
   "cell_type": "code",
   "execution_count": 20,
   "id": "555edb07",
   "metadata": {},
   "outputs": [],
   "source": [
    "# imgData[0].shape"
   ]
  },
  {
   "cell_type": "code",
   "execution_count": 21,
   "id": "2230004b",
   "metadata": {},
   "outputs": [],
   "source": [
    "# for i in range(len(rr)):\n",
    "#     x=train['label'][i]\n",
    "#     if x>9 and x<36:\n",
    "#         rr[i]=chr(x-9+64)\n",
    "#     elif x>=36:\n",
    "#         rr[i]=chr(x-36+97)\n",
    "#     else:\n",
    "#         rr[i]=chr(x+'0')"
   ]
  },
  {
   "cell_type": "code",
   "execution_count": 22,
   "id": "37e10f2d",
   "metadata": {},
   "outputs": [],
   "source": [
    "# def change(x):\n",
    "#      if x>9 and x<36:\n",
    "#         return chr(x-9+64)\n",
    "#      elif x>=36:\n",
    "#         return chr(x-36+97)\n",
    "#      else:\n",
    "#         return chr(x+48)\n",
    "# rr=tf.convert_to_tensor([i for i in x],dtype=tf.dtypes.string)"
   ]
  },
  {
   "cell_type": "code",
   "execution_count": 23,
   "id": "b967d5d5",
   "metadata": {},
   "outputs": [],
   "source": [
    "# rr[0]"
   ]
  },
  {
   "cell_type": "code",
   "execution_count": 24,
   "id": "c36f76c2",
   "metadata": {},
   "outputs": [],
   "source": [
    "# Y_train[2]"
   ]
  },
  {
   "cell_type": "code",
   "execution_count": 25,
   "id": "6abaa769",
   "metadata": {},
   "outputs": [],
   "source": [
    "train_Y = tf.keras.utils.to_categorical(train_Y,47)\n",
    "test_Y = tf.keras.utils.to_categorical(test_Y,47)\n",
    "val_Y= tf.keras.utils.to_categorical(val_Y,47)"
   ]
  },
  {
   "cell_type": "code",
   "execution_count": 48,
   "id": "2b06f44e",
   "metadata": {},
   "outputs": [],
   "source": [
    "train_X=train_X/255\n",
    "test_X=test_X/255\n",
    "val_X=val_X/255"
   ]
  },
  {
   "cell_type": "code",
   "execution_count": 26,
   "id": "1953888a",
   "metadata": {},
   "outputs": [
    {
     "data": {
      "text/plain": [
       "array([0., 0., 0., 0., 0., 1., 0., 0., 0., 0., 0., 0., 0., 0., 0., 0., 0.,\n",
       "       0., 0., 0., 0., 0., 0., 0., 0., 0., 0., 0., 0., 0., 0., 0., 0., 0.,\n",
       "       0., 0., 0., 0., 0., 0., 0., 0., 0., 0., 0., 0., 0.], dtype=float32)"
      ]
     },
     "execution_count": 26,
     "metadata": {},
     "output_type": "execute_result"
    }
   ],
   "source": [
    "train_Y[0]"
   ]
  },
  {
   "cell_type": "code",
   "execution_count": 27,
   "id": "b0b5917a",
   "metadata": {},
   "outputs": [],
   "source": [
    "from tensorflow.keras import Sequential\n",
    "from tensorflow import keras\n",
    "from tensorflow.keras.layers import Conv2D,Dropout,MaxPooling2D,Dense,Flatten,InputLayer\n"
   ]
  },
  {
   "cell_type": "code",
   "execution_count": 28,
   "id": "7e2f2425",
   "metadata": {},
   "outputs": [
    {
     "name": "stdout",
     "output_type": "stream",
     "text": [
      "Epoch 1/11\n",
      "226/226 [==============================] - 136s 595ms/step - loss: 3.1292 - accuracy: 0.4618 - val_loss: 0.6963 - val_accuracy: 0.7883\n",
      "Epoch 2/11\n",
      "226/226 [==============================] - 134s 591ms/step - loss: 0.8673 - accuracy: 0.7289 - val_loss: 0.5398 - val_accuracy: 0.8219\n",
      "Epoch 3/11\n",
      "226/226 [==============================] - 133s 587ms/step - loss: 0.6967 - accuracy: 0.7745 - val_loss: 0.4814 - val_accuracy: 0.8426\n",
      "Epoch 4/11\n",
      "226/226 [==============================] - 132s 585ms/step - loss: 0.6125 - accuracy: 0.7959 - val_loss: 0.4496 - val_accuracy: 0.8503\n",
      "Epoch 5/11\n",
      "226/226 [==============================] - 130s 577ms/step - loss: 0.5569 - accuracy: 0.8118 - val_loss: 0.4299 - val_accuracy: 0.8562\n",
      "Epoch 6/11\n",
      "226/226 [==============================] - 130s 573ms/step - loss: 0.5107 - accuracy: 0.8254 - val_loss: 0.4198 - val_accuracy: 0.8590\n",
      "Epoch 7/11\n",
      "226/226 [==============================] - 128s 568ms/step - loss: 0.4821 - accuracy: 0.8323 - val_loss: 0.4170 - val_accuracy: 0.8588\n",
      "Epoch 8/11\n",
      "226/226 [==============================] - 134s 592ms/step - loss: 0.4540 - accuracy: 0.8414 - val_loss: 0.4108 - val_accuracy: 0.8652\n",
      "Epoch 9/11\n",
      "226/226 [==============================] - 124s 549ms/step - loss: 0.4343 - accuracy: 0.8458 - val_loss: 0.4043 - val_accuracy: 0.8640\n",
      "Epoch 10/11\n",
      "226/226 [==============================] - 124s 551ms/step - loss: 0.4127 - accuracy: 0.8515 - val_loss: 0.3935 - val_accuracy: 0.8680\n",
      "Epoch 11/11\n",
      "226/226 [==============================] - 123s 543ms/step - loss: 0.3918 - accuracy: 0.8582 - val_loss: 0.3929 - val_accuracy: 0.8687\n"
     ]
    }
   ],
   "source": [
    "model = Sequential()\n",
    "model.add(InputLayer(input_shape=(28,28,1)))\n",
    "model.add(Conv2D(filters=32, padding='same', activation='relu', kernel_size= (3,3)))\n",
    "model.add(Dropout(0.2))\n",
    "model.add(Conv2D(filters=32, padding='same', activation='relu',kernel_size= (3,3)))\n",
    "model.add(MaxPooling2D(pool_size=(2,2)))\n",
    "model.add(Flatten())\n",
    "model.add(Dense(512,activation='relu'))\n",
    "model.add(Dropout(0.5))\n",
    "model.add(Dense(47,activation='softmax'))\n",
    "model.compile(optimizer='adam',accuracy='categorical_crossentropy',metrics=['accuracy'])\n",
    "history=model.fit(train_X, train_Y,\n",
    "          batch_size=400,\n",
    "          epochs=11,\n",
    "          verbose=1,\n",
    "          validation_data=(val_X, val_Y))"
   ]
  },
  {
   "cell_type": "code",
   "execution_count": 29,
   "id": "68843399",
   "metadata": {},
   "outputs": [
    {
     "data": {
      "text/plain": [
       "dict_keys(['loss', 'accuracy', 'val_loss', 'val_accuracy'])"
      ]
     },
     "execution_count": 29,
     "metadata": {},
     "output_type": "execute_result"
    }
   ],
   "source": [
    "history.history.keys()"
   ]
  },
  {
   "cell_type": "code",
   "execution_count": 30,
   "id": "2fcafdc0",
   "metadata": {},
   "outputs": [
    {
     "data": {
      "image/png": "[encoded data removed]",
      "text/plain": [
       "<Figure size 432x288 with 1 Axes>"
      ]
     },
     "metadata": {
      "needs_background": "light"
     },
     "output_type": "display_data"
    }
   ],
   "source": [
    "import matplotlib.pyplot as plt\n",
    "accuracy=history.history['accuracy']\n",
    "accuracy=history.history['accuracy']\n",
    "plt.title('accuracy vs accuracy')\n",
    "plt.plot(accuracy,accuracy,'g')\n",
    "plt.xlabel('accuracy')\n",
    "plt.ylabel('accuracy')\n",
    "plt.show()"
   ]
  },
  {
   "cell_type": "code",
   "execution_count": 31,
   "id": "0a77b472",
   "metadata": {},
   "outputs": [
    {
     "data": {
      "image/png": "[encoded data removed]",
      "text/plain": [
       "<Figure size 432x288 with 1 Axes>"
      ]
     },
     "metadata": {
      "needs_background": "light"
     },
     "output_type": "display_data"
    }
   ],
   "source": [
    "accuracy=history.history['accuracy']\n",
    "accuracy_val=history.history['val_accuracy']\n",
    "e=np.arange(1,12)\n",
    "plt.title('accuracy and epochs')\n",
    "plt.plot(e,accuracy,'g',label='accuracy')\n",
    "plt.plot(e,accuracy_val,'b',label='validation accuracy')\n",
    "plt.legend()\n",
    "plt.xlabel('epochs')\n",
    "plt.ylabel('accuracy')\n",
    "plt.show()"
   ]
  },
  {
   "cell_type": "code",
   "execution_count": 44,
   "id": "d34fe4b3",
   "metadata": {},
   "outputs": [
    {
     "data": {
      "image/png": "[encoded data removed]",
      "text/plain": [
       "<Figure size 432x288 with 1 Axes>"
      ]
     },
     "metadata": {
      "needs_background": "light"
     },
     "output_type": "display_data"
    }
   ],
   "source": [
    "accuracy=history.history['accuracy']\n",
    "accuracy_val=history.history['val_accuracy']\n",
    "e=np.arange(1,12)\n",
    "plt.title('accuracy and epochs')\n",
    "plt.plot(e,accuracy,'g',label='accuracy')\n",
    "plt.plot(e,accuracy_val,'b',label='validation accuracy')\n",
    "plt.legend()\n",
    "plt.xlabel('epochs')\n",
    "plt.ylabel('accuracy')\n",
    "plt.show()"
   ]
  },
  {
   "cell_type": "code",
   "execution_count": 34,
   "id": "f7492f15",
   "metadata": {},
   "outputs": [
    {
     "name": "stderr",
     "output_type": "stream",
     "text": [
      "C:\\python3.9\\lib\\site-packages\\skimage\\io\\_plugins\\matplotlib_plugin.py:150: UserWarning: Low image data range; displaying image with stretched contrast.\n",
      "  lo, hi, cmap = _get_display_range(image)\n"
     ]
    },
    {
     "data": {
      "text/plain": [
       "<matplotlib.image.AxesImage at 0x29f5ea4ef10>"
      ]
     },
     "execution_count": 34,
     "metadata": {},
     "output_type": "execute_result"
    },
    {
     "data": {
      "image/png": "[encoded data removed]",
      "text/plain": [
       "<Figure size 432x288 with 2 Axes>"
      ]
     },
     "metadata": {
      "needs_background": "light"
     },
     "output_type": "display_data"
    }
   ],
   "source": [
    "from skimage import filters,io\n",
    "img=filters.sobel(train_X[0])\n",
    "io.imshow(img)"
   ]
  },
  {
   "cell_type": "code",
   "execution_count": 36,
   "id": "b34a575e",
   "metadata": {},
   "outputs": [
    {
     "name": "stdout",
     "output_type": "stream",
     "text": [
      "588/588 [==============================] - 5s 9ms/step - loss: 0.4147 - accuracy: 0.8635\n"
     ]
    }
   ],
   "source": [
    "result=model.evaluate(test_X,test_Y,verbose=True)"
   ]
  },
  {
   "cell_type": "code",
   "execution_count": 43,
   "id": "fbe14a2b",
   "metadata": {},
   "outputs": [
    {
     "data": {
      "text/plain": [
       "0.8634501695632935"
      ]
     },
     "execution_count": 43,
     "metadata": {},
     "output_type": "execute_result"
    }
   ],
   "source": [
    "result[1]"
   ]
  },
  {
   "cell_type": "code",
   "execution_count": 35,
   "id": "4378eb5b",
   "metadata": {},
   "outputs": [
    {
     "data": {
      "text/plain": [
       "array([2.7857696e-09, 1.9735404e-11, 2.0214632e-11, 3.6848795e-11,\n",
       "       3.5344605e-14, 4.1623610e-12, 1.3401392e-13, 2.0456191e-15,\n",
       "       4.4953718e-11, 1.3776482e-11, 1.7075666e-14, 5.1451639e-09,\n",
       "       3.4072308e-04, 7.5916454e-15, 1.4847086e-05, 1.6724091e-08,\n",
       "       8.3666354e-09, 3.4030872e-17, 1.6616190e-10, 1.1479474e-16,\n",
       "       5.5225030e-13, 2.0926636e-08, 1.5090036e-19, 2.0229043e-16,\n",
       "       1.1096027e-08, 3.7904866e-09, 1.6815653e-13, 1.1252952e-09,\n",
       "       5.2478065e-12, 1.0479578e-14, 9.1494117e-16, 4.3027281e-16,\n",
       "       2.4046937e-19, 2.2472621e-17, 1.8311655e-14, 6.0213147e-11,\n",
       "       1.5887641e-10, 2.5052161e-12, 2.5557513e-13, 9.9964368e-01,\n",
       "       3.0121139e-08, 7.9821758e-09, 1.4198956e-17, 3.8512341e-17,\n",
       "       9.2956768e-08, 6.8240176e-08, 5.9215057e-07], dtype=float32)"
      ]
     },
     "execution_count": 35,
     "metadata": {},
     "output_type": "execute_result"
    }
   ],
   "source": [
    "result[0]"
   ]
  },
  {
   "cell_type": "markdown",
   "id": "32303a76",
   "metadata": {},
   "source": []
  },
  {
   "cell_type": "code",
   "execution_count": null,
   "id": "02be2a19",
   "metadata": {},
   "outputs": [
    {
     "data": {
      "text/plain": [
       "array([0., 0., 0., 0., 0., 0., 0., 0., 0., 0., 0., 0., 0., 0., 0., 0., 0.,\n",
       "       0., 0., 0., 0., 0., 0., 0., 0., 0., 0., 0., 0., 0., 0., 0., 0., 0.,\n",
       "       0., 0., 1., 0., 0., 0., 0., 0., 0., 0., 0., 0., 0., 0., 0., 0., 0.,\n",
       "       0., 0., 0., 0., 0., 0., 0., 0., 0., 0., 0.], dtype=float32)"
      ]
     },
     "execution_count": 21,
     "metadata": {},
     "output_type": "execute_result"
    }
   ],
   "source": []
  },
  {
   "cell_type": "code",
   "execution_count": null,
   "id": "dc81b612",
   "metadata": {},
   "outputs": [],
   "source": []
  },
  {
   "cell_type": "code",
   "execution_count": null,
   "id": "8b5a31be",
   "metadata": {},
   "outputs": [],
   "source": []
  },
  {
   "cell_type": "code",
   "execution_count": null,
   "id": "5a9e1dff",
   "metadata": {},
   "outputs": [],
   "source": []
  }
 ],
 "metadata": {
  "kernelspec": {
   "display_name": "Python 3 (ipykernel)",
   "language": "python",
   "name": "python3"
  },
  "language_info": {
   "codemirror_mode": {
    "name": "ipython",
    "version": 3
   },
   "file_extension": ".py",
   "mimetype": "text/x-python",
   "name": "python",
   "nbconvert_exporter": "python",
   "pygments_lexer": "ipython3",
   "version": "3.9.5"
  }
 },
 "nbformat": 4,
 "nbformat_minor": 5
}
